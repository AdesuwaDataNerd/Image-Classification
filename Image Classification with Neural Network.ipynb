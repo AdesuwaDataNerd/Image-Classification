{
 "cells": [
  {
   "cell_type": "code",
   "execution_count": 1,
   "id": "f01cf2d7",
   "metadata": {},
   "outputs": [],
   "source": [
    "import tensorflow as tf \n",
    "from tensorflow import keras\n",
    "import numpy as np\n",
    "import matplotlib.pyplot as plt"
   ]
  },
  {
   "cell_type": "code",
   "execution_count": 2,
   "id": "a385769c",
   "metadata": {},
   "outputs": [
    {
     "name": "stdout",
     "output_type": "stream",
     "text": [
      "Downloading data from https://storage.googleapis.com/tensorflow/tf-keras-datasets/train-labels-idx1-ubyte.gz\n",
      "29515/29515 [==============================] - 0s 10us/step\n",
      "Downloading data from https://storage.googleapis.com/tensorflow/tf-keras-datasets/train-images-idx3-ubyte.gz\n",
      "26421880/26421880 [==============================] - 9s 0us/step\n",
      "Downloading data from https://storage.googleapis.com/tensorflow/tf-keras-datasets/t10k-labels-idx1-ubyte.gz\n",
      "5148/5148 [==============================] - 0s 0s/step\n",
      "Downloading data from https://storage.googleapis.com/tensorflow/tf-keras-datasets/t10k-images-idx3-ubyte.gz\n",
      "4422102/4422102 [==============================] - 9s 2us/step\n"
     ]
    }
   ],
   "source": [
    "fashion = keras.datasets.fashion_mnist\n",
    "(x_train,y_train), (x_test,y_test) = fashion.load_data()"
   ]
  },
  {
   "cell_type": "code",
   "execution_count": 6,
   "id": "f6c56df4",
   "metadata": {},
   "outputs": [
    {
     "name": "stdout",
     "output_type": "stream",
     "text": [
      "Image Label: 5\n"
     ]
    },
    {
     "data": {
      "text/plain": [
       "<matplotlib.image.AxesImage at 0x1fc094e0050>"
      ]
     },
     "execution_count": 6,
     "metadata": {},
     "output_type": "execute_result"
    },
    {
     "data": {
      "image/png": "[encoded data removed]",
      "text/plain": [
       "<Figure size 640x480 with 1 Axes>"
      ]
     },
     "metadata": {},
     "output_type": "display_data"
    }
   ],
   "source": [
    "ImgIndex = 8\n",
    "image = x_train[ImgIndex]\n",
    "print(\"Image Label:\", y_train[ImgIndex])\n",
    "plt.imshow(image)"
   ]
  },
  {
   "cell_type": "code",
   "execution_count": 7,
   "id": "b4016bae",
   "metadata": {},
   "outputs": [
    {
     "name": "stdout",
     "output_type": "stream",
     "text": [
      "(60000, 28, 28)\n",
      "(10000, 28, 28)\n"
     ]
    }
   ],
   "source": [
    "print(x_train.shape)\n",
    "print(x_test.shape)"
   ]
  },
  {
   "cell_type": "code",
   "execution_count": 10,
   "id": "b3158eed",
   "metadata": {},
   "outputs": [
    {
     "name": "stdout",
     "output_type": "stream",
     "text": [
      "Model: \"sequential_1\"\n",
      "_________________________________________________________________\n",
      " Layer (type)                Output Shape              Param #   \n",
      "=================================================================\n",
      " flatten_1 (Flatten)         (None, 784)               0         \n",
      "                                                                 \n",
      " dense_3 (Dense)             (None, 300)               235500    \n",
      "                                                                 \n",
      " dense_4 (Dense)             (None, 100)               30100     \n",
      "                                                                 \n",
      " dense_5 (Dense)             (None, 10)                1010      \n",
      "                                                                 \n",
      "=================================================================\n",
      "Total params: 266610 (1.02 MB)\n",
      "Trainable params: 266610 (1.02 MB)\n",
      "Non-trainable params: 0 (0.00 Byte)\n",
      "_________________________________________________________________\n"
     ]
    }
   ],
   "source": [
    "model = keras.models.Sequential([\n",
    "    keras.layers.Flatten(input_shape=[28,28]),\n",
    "    keras.layers.Dense(300, activation=\"relu\"),\n",
    "    keras.layers.Dense(100, activation=\"relu\"),\n",
    "    keras.layers.Dense(10, activation=\"softmax\")\n",
    "])\n",
    "\n",
    "model.summary()"
   ]
  },
  {
   "cell_type": "code",
   "execution_count": 11,
   "id": "176ade0c",
   "metadata": {},
   "outputs": [],
   "source": [
    "x_valid, x_train = x_train[:5000]/255.0, x_train[:5000]/255.0 \n",
    "y_valid, y_train = y_train[:5000],  y_train[:5000]"
   ]
  },
  {
   "cell_type": "code",
   "execution_count": 12,
   "id": "1600af44",
   "metadata": {},
   "outputs": [
    {
     "name": "stdout",
     "output_type": "stream",
     "text": [
      "Epoch 1/30\n",
      "157/157 [==============================] - 3s 8ms/step - loss: 1.4060 - accuracy: 0.5960 - val_loss: 0.9698 - val_accuracy: 0.6886\n",
      "Epoch 2/30\n",
      "157/157 [==============================] - 1s 6ms/step - loss: 0.8462 - accuracy: 0.7294 - val_loss: 0.7926 - val_accuracy: 0.7298\n",
      "Epoch 3/30\n",
      "157/157 [==============================] - 1s 6ms/step - loss: 0.7144 - accuracy: 0.7612 - val_loss: 0.7011 - val_accuracy: 0.7578\n",
      "Epoch 4/30\n",
      "157/157 [==============================] - 1s 6ms/step - loss: 0.6455 - accuracy: 0.7884 - val_loss: 0.6146 - val_accuracy: 0.7974\n",
      "Epoch 5/30\n",
      "157/157 [==============================] - 1s 6ms/step - loss: 0.6001 - accuracy: 0.7968 - val_loss: 0.6128 - val_accuracy: 0.7910\n",
      "Epoch 6/30\n",
      "157/157 [==============================] - 1s 6ms/step - loss: 0.5687 - accuracy: 0.8134 - val_loss: 0.5635 - val_accuracy: 0.8170\n",
      "Epoch 7/30\n",
      "157/157 [==============================] - 1s 6ms/step - loss: 0.5390 - accuracy: 0.8196 - val_loss: 0.5471 - val_accuracy: 0.8158\n",
      "Epoch 8/30\n",
      "157/157 [==============================] - 1s 6ms/step - loss: 0.5190 - accuracy: 0.8276 - val_loss: 0.5089 - val_accuracy: 0.8338\n",
      "Epoch 9/30\n",
      "157/157 [==============================] - 1s 6ms/step - loss: 0.4988 - accuracy: 0.8366 - val_loss: 0.4928 - val_accuracy: 0.8400\n",
      "Epoch 10/30\n",
      "157/157 [==============================] - 1s 6ms/step - loss: 0.4816 - accuracy: 0.8440 - val_loss: 0.4574 - val_accuracy: 0.8498\n",
      "Epoch 11/30\n",
      "157/157 [==============================] - 1s 6ms/step - loss: 0.4688 - accuracy: 0.8450 - val_loss: 0.5102 - val_accuracy: 0.8294\n",
      "Epoch 12/30\n",
      "157/157 [==============================] - 1s 6ms/step - loss: 0.4591 - accuracy: 0.8490 - val_loss: 0.5138 - val_accuracy: 0.8214\n",
      "Epoch 13/30\n",
      "157/157 [==============================] - 1s 6ms/step - loss: 0.4449 - accuracy: 0.8496 - val_loss: 0.4465 - val_accuracy: 0.8510\n",
      "Epoch 14/30\n",
      "157/157 [==============================] - 1s 6ms/step - loss: 0.4387 - accuracy: 0.8530 - val_loss: 0.4905 - val_accuracy: 0.8390\n",
      "Epoch 15/30\n",
      "157/157 [==============================] - 1s 7ms/step - loss: 0.4272 - accuracy: 0.8568 - val_loss: 0.4135 - val_accuracy: 0.8620\n",
      "Epoch 16/30\n",
      "157/157 [==============================] - 1s 6ms/step - loss: 0.4183 - accuracy: 0.8610 - val_loss: 0.4042 - val_accuracy: 0.8656\n",
      "Epoch 17/30\n",
      "157/157 [==============================] - 1s 6ms/step - loss: 0.4090 - accuracy: 0.8644 - val_loss: 0.4494 - val_accuracy: 0.8466\n",
      "Epoch 18/30\n",
      "157/157 [==============================] - 1s 6ms/step - loss: 0.4017 - accuracy: 0.8648 - val_loss: 0.4280 - val_accuracy: 0.8522\n",
      "Epoch 19/30\n",
      "157/157 [==============================] - 1s 6ms/step - loss: 0.3937 - accuracy: 0.8668 - val_loss: 0.4118 - val_accuracy: 0.8566\n",
      "Epoch 20/30\n",
      "157/157 [==============================] - 1s 6ms/step - loss: 0.3884 - accuracy: 0.8716 - val_loss: 0.4208 - val_accuracy: 0.8568\n",
      "Epoch 21/30\n",
      "157/157 [==============================] - 1s 6ms/step - loss: 0.3836 - accuracy: 0.8696 - val_loss: 0.4005 - val_accuracy: 0.8626\n",
      "Epoch 22/30\n",
      "157/157 [==============================] - 1s 6ms/step - loss: 0.3771 - accuracy: 0.8738 - val_loss: 0.3621 - val_accuracy: 0.8784\n",
      "Epoch 23/30\n",
      "157/157 [==============================] - 1s 6ms/step - loss: 0.3694 - accuracy: 0.8720 - val_loss: 0.4066 - val_accuracy: 0.8616\n",
      "Epoch 24/30\n",
      "157/157 [==============================] - 1s 6ms/step - loss: 0.3662 - accuracy: 0.8764 - val_loss: 0.4182 - val_accuracy: 0.8548\n",
      "Epoch 25/30\n",
      "157/157 [==============================] - 1s 6ms/step - loss: 0.3614 - accuracy: 0.8756 - val_loss: 0.3623 - val_accuracy: 0.8772\n",
      "Epoch 26/30\n",
      "157/157 [==============================] - 1s 7ms/step - loss: 0.3545 - accuracy: 0.8816 - val_loss: 0.3362 - val_accuracy: 0.8892\n",
      "Epoch 27/30\n",
      "157/157 [==============================] - 1s 7ms/step - loss: 0.3492 - accuracy: 0.8826 - val_loss: 0.4406 - val_accuracy: 0.8502\n",
      "Epoch 28/30\n",
      "157/157 [==============================] - 1s 7ms/step - loss: 0.3465 - accuracy: 0.8854 - val_loss: 0.3247 - val_accuracy: 0.8938\n",
      "Epoch 29/30\n",
      "157/157 [==============================] - 1s 7ms/step - loss: 0.3379 - accuracy: 0.8848 - val_loss: 0.3865 - val_accuracy: 0.8624\n",
      "Epoch 30/30\n",
      "157/157 [==============================] - 1s 6ms/step - loss: 0.3369 - accuracy: 0.8930 - val_loss: 0.3273 - val_accuracy: 0.8910\n"
     ]
    }
   ],
   "source": [
    "model.compile(loss = \"sparse_categorical_crossentropy\",\n",
    "             optimizer = \"sgd\",\n",
    "             metrics= [\"accuracy\"])\n",
    "\n",
    "history = model.fit(x_train,y_train,epochs=30,\n",
    "                   validation_data=(x_valid,y_valid))"
   ]
  },
  {
   "cell_type": "code",
   "execution_count": 14,
   "id": "2a3c42d9",
   "metadata": {},
   "outputs": [
    {
     "name": "stdout",
     "output_type": "stream",
     "text": [
      "1/1 [==============================] - 0s 103ms/step\n"
     ]
    },
    {
     "data": {
      "text/plain": [
       "array([[0., 0., 0., 0., 0., 0., 0., 0., 0., 1.],\n",
       "       [0., 0., 1., 0., 0., 0., 0., 0., 0., 0.],\n",
       "       [0., 1., 0., 0., 0., 0., 0., 0., 0., 0.],\n",
       "       [0., 1., 0., 0., 0., 0., 0., 0., 0., 0.],\n",
       "       [0., 0., 0., 0., 0., 0., 1., 0., 0., 0.]], dtype=float32)"
      ]
     },
     "execution_count": 14,
     "metadata": {},
     "output_type": "execute_result"
    }
   ],
   "source": [
    "new = x_test[:5]\n",
    "predictions = model.predict(new)\n",
    "predictions"
   ]
  },
  {
   "cell_type": "code",
   "execution_count": 16,
   "id": "91237674",
   "metadata": {},
   "outputs": [
    {
     "data": {
      "text/plain": [
       "array([9, 2, 1, 1, 6], dtype=int64)"
      ]
     },
     "execution_count": 16,
     "metadata": {},
     "output_type": "execute_result"
    }
   ],
   "source": [
    "classes = np.argmax(predictions,axis=1)\n",
    "classes"
   ]
  },
  {
   "cell_type": "code",
   "execution_count": null,
   "id": "e1a7af8b",
   "metadata": {},
   "outputs": [],
   "source": []
  }
 ],
 "metadata": {
  "kernelspec": {
   "display_name": "Python 3 (ipykernel)",
   "language": "python",
   "name": "python3"
  },
  "language_info": {
   "codemirror_mode": {
    "name": "ipython",
    "version": 3
   },
   "file_extension": ".py",
   "mimetype": "text/x-python",
   "name": "python",
   "nbconvert_exporter": "python",
   "pygments_lexer": "ipython3",
   "version": "3.11.4"
  }
 },
 "nbformat": 4,
 "nbformat_minor": 5
}
